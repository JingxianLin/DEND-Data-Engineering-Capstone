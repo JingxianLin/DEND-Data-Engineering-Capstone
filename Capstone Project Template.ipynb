{
 "cells": [
  {
   "cell_type": "markdown",
   "metadata": {
    "editable": true
   },
   "source": [
    "# Football Events\n",
    "### Data Engineering Capstone Project\n",
    "\n",
    "#### Project Summary\n",
    "Football Events Data comes from football games across Europe.  You are tasked with building an ETL pipeline that extracts their data from a lake, processes them using Spark, and loads the data back as a set of dimensional tables.\n",
    "\n",
    "The project follows the following steps:\n",
    "* Step 1: Scope the Project and Gather Data\n",
    "* Step 2: Explore and Assess the Data\n",
    "* Step 3: Define the Data Model\n",
    "* Step 4: Run ETL to Model the Data\n",
    "* Step 5: Complete Project Write Up"
   ]
  },
  {
   "cell_type": "code",
   "execution_count": 1,
   "metadata": {
    "editable": true
   },
   "outputs": [],
   "source": [
    "# Do all imports and installs here\n",
    "import pandas as pd\n",
    "import re\n",
    "from pyspark.sql import SparkSession\n",
    "import os\n",
    "import glob\n",
    "from datetime import datetime, timedelta\n",
    "from pyspark.sql import types as t\n",
    "from pyspark.sql.functions import udf, col, monotonically_increasing_id\n",
    "from pyspark.sql.functions import year, month, dayofmonth, hour, weekofyear"
   ]
  },
  {
   "cell_type": "markdown",
   "metadata": {
    "editable": true
   },
   "source": [
    "### Step 1: Scope the Project and Gather Data\n",
    "\n",
    "#### Scope \n",
    "Explain what you plan to do in the project in more detail. What data do you use? What is your end solution look like? What tools did you use? etc>\n",
    "\n",
    "The scope is to create an ETL pipeline for processing, cleaning, and storing data related to Football Events-including a star schema to help answer tons of interesting questions.  Tools: python, pandas, pyspark\n",
    "#### Describe and Gather Data \n",
    "Describe the data sets you're using. Where did it come from? What type of information is included?\n",
    "\n",
    "This Kaggle dataset from the biggest 5 European soccer leagues: England, Spain, Germany, Italy, and France, for the 2011 to 2016 seasons, contains the following pieces:\n",
    "\n",
    "events.csv contains event data about each game.  Text commentary was scraped from: bbc.com, espn.com and onefootball.com\n",
    "\n",
    "ginf.csv - contains metadata and market odds about each game.  Odds were collected from oddsportal.com\n",
    "\n",
    "assist_method.csv, bodypart.csv, event_type.xlsx, event_type2.xlsx, location.csv, shot_outcome.csv, shot_place.csv, side.csv, and situation.csv contain dictionaries with the textual description of each categorical variable coded with integers"
   ]
  },
  {
   "cell_type": "code",
   "execution_count": 40,
   "metadata": {
    "editable": true
   },
   "outputs": [],
   "source": [
    "\t\n",
    "from pyspark.sql import SparkSession\n",
    "spark = SparkSession.builder.\\\n",
    "config(\"spark.jars.packages\",\"saurfang:spark-sas7bdat:2.0.0-s_2.11\")\\\n",
    ".enableHiveSupport().getOrCreate()"
   ]
  },
  {
   "cell_type": "markdown",
   "metadata": {
    "editable": true
   },
   "source": [
    "### Step 2: Explore and Assess the Data\n",
    "#### Explore the Data \n",
    "Identify data quality issues, like missing values, duplicate data, etc.\n",
    "\n",
    "Data quality issues include some columns misssing values, which need to be filled in to avoid errors in the following steps.\n",
    "#### Cleaning Steps\n",
    "Document steps necessary to clean the data\n",
    "\n",
    "All missing values in any column should be handled by cleaning operations: for string, removing extra white spaces and replacing with 'NA'; for integer, replacing with 99."
   ]
  },
  {
   "cell_type": "code",
   "execution_count": 41,
   "metadata": {
    "editable": true
   },
   "outputs": [
    {
     "data": {
      "text/plain": [
       "DataFrame[id_odsp: string, id_event: string, sort_order: int, time: int, text: string, event_type: int, event_type2: int, side: int, event_team: string, opponent: string, player: string, player2: string, player_in: string, player_out: string, shot_place: int, shot_outcome: int, is_goal: int, location: int, bodypart: int, assist_method: int, situation: int, fast_break: int]"
      ]
     },
     "metadata": {},
     "output_type": "display_data"
    }
   ],
   "source": [
    "# Performing cleaning tasks here\n",
    "from pyspark.sql.types import *\n",
    "schema = (StructType().\n",
    " add('id_odsp', StringType()).add('id_event', StringType()).add('sort_order', IntegerType()).\n",
    " add('time', IntegerType()).add('text', StringType()).add('event_type', IntegerType()).\n",
    " add('event_type2', IntegerType()).add('side', IntegerType()).add('event_team', StringType()).\n",
    " add('opponent', StringType()).add('player', StringType()).add('player2', StringType()).\n",
    " add('player_in', StringType()).add('player_out', StringType()).add('shot_place', IntegerType()).\n",
    " add('shot_outcome', IntegerType()).add('is_goal', IntegerType()).add('location', IntegerType()).\n",
    " add('bodypart', IntegerType()).add('assist_method', IntegerType()).add('situation', IntegerType()).\n",
    " add('fast_break', IntegerType())\n",
    " )\n",
    "eventsDf = (spark.read.csv('events.csv',\n",
    " schema=schema, header=True,\n",
    " ignoreLeadingWhiteSpace=True,\n",
    " ignoreTrailingWhiteSpace=True,\n",
    " nullValue='NA'))\n",
    "eventsDf = eventsDf.na.fill({'player': 'NA', 'event_team': 'NA', 'opponent': 'NA',\n",
    " 'event_type': 99, 'event_type2': 99, 'shot_place': 99,\n",
    " 'shot_outcome': 99, 'location': 99, 'bodypart': 99,\n",
    " 'assist_method': 99, 'situation': 99})\n",
    "display(eventsDf)\n",
    "# Write to parquet\n",
    "eventsDf.write.parquet(\"events_data\")\n",
    "eventsDf=spark.read.parquet(\"events_data\")"
   ]
  },
  {
   "cell_type": "code",
   "execution_count": 42,
   "metadata": {
    "editable": true
   },
   "outputs": [
    {
     "data": {
      "text/plain": [
       "[Row(id_odsp='UFot0hit/', id_event='UFot0hit1', sort_order=1, time=2, text='Attempt missed. Mladen Petric (Hamburg) left footed shot from the left side of the box is high and wide to the left. Assisted by Gokhan Tore.', event_type=1, event_type2=12, side=2, event_team='Hamburg SV', opponent='Borussia Dortmund', player='mladen petric', player2='gokhan tore', player_in=None, player_out=None, shot_place=6, shot_outcome=2, is_goal=0, location=9, bodypart=2, assist_method=1, situation=1, fast_break=0),\n",
       " Row(id_odsp='UFot0hit/', id_event='UFot0hit2', sort_order=2, time=4, text='Corner,  Borussia Dortmund. Conceded by Dennis Diekmeier.', event_type=2, event_type2=99, side=1, event_team='Borussia Dortmund', opponent='Hamburg SV', player='dennis diekmeier', player2='dennis diekmeier', player_in=None, player_out=None, shot_place=99, shot_outcome=99, is_goal=0, location=99, bodypart=99, assist_method=0, situation=99, fast_break=0),\n",
       " Row(id_odsp='UFot0hit/', id_event='UFot0hit3', sort_order=3, time=4, text='Corner,  Borussia Dortmund. Conceded by Heiko Westermann.', event_type=2, event_type2=99, side=1, event_team='Borussia Dortmund', opponent='Hamburg SV', player='heiko westermann', player2='heiko westermann', player_in=None, player_out=None, shot_place=99, shot_outcome=99, is_goal=0, location=99, bodypart=99, assist_method=0, situation=99, fast_break=0),\n",
       " Row(id_odsp='UFot0hit/', id_event='UFot0hit4', sort_order=4, time=7, text='Foul by Sven Bender (Borussia Dortmund).', event_type=3, event_type2=99, side=1, event_team='Borussia Dortmund', opponent='Hamburg SV', player='sven bender', player2=None, player_in=None, player_out=None, shot_place=99, shot_outcome=99, is_goal=0, location=99, bodypart=99, assist_method=0, situation=99, fast_break=0),\n",
       " Row(id_odsp='UFot0hit/', id_event='UFot0hit5', sort_order=5, time=7, text='Gokhan Tore (Hamburg) wins a free kick in the defensive half.', event_type=8, event_type2=99, side=2, event_team='Hamburg SV', opponent='Borussia Dortmund', player='gokhan tore', player2=None, player_in=None, player_out=None, shot_place=99, shot_outcome=99, is_goal=0, location=2, bodypart=99, assist_method=0, situation=99, fast_break=0)]"
      ]
     },
     "execution_count": 42,
     "metadata": {},
     "output_type": "execute_result"
    }
   ],
   "source": [
    "eventsDf.head(5)"
   ]
  },
  {
   "cell_type": "markdown",
   "metadata": {
    "editable": true
   },
   "source": [
    "The primary dataset is specific events from the games in chronological order, including key information like:\n",
    "\n",
    "• id_odsp – unique identifier of game\n",
    "\n",
    "• time – minute of the game\n",
    "\n",
    "• event_type – primary event\n",
    "\n",
    "• event_team – the team that produced the event\n",
    "\n",
    "• player – name of the player involved in the main event\n",
    "\n",
    "• shot_place – placement of the shot, 13 possible placement locations\n",
    "\n",
    "• shot_outcome – 4 possible outcomes\n",
    "\n",
    "• location – location on the pitch where the event happened, 19 possible locations\n",
    "\n",
    "• is_goal – binary variable if the shot resulted in a goal (own goals included)\n",
    "\n",
    "• And more..."
   ]
  },
  {
   "cell_type": "code",
   "execution_count": 43,
   "metadata": {
    "editable": true
   },
   "outputs": [
    {
     "data": {
      "text/plain": [
       "DataFrame[id_odsp: string, link_odsp: string, adv_stats: boolean, date: timestamp, league: string, season: int, country: string, ht: string, at: string, fthg: int, ftag: int, odd_h: double, odd_d: double, odd_a: double, odd_over: double, odd_under: double, odd_bts: double, odd_bts_n: double]"
      ]
     },
     "metadata": {},
     "output_type": "display_data"
    }
   ],
   "source": [
    "# Read in the data here\n",
    "gameInfDf = (spark.read.csv('ginf.csv', inferSchema=True, header=True, ignoreLeadingWhiteSpace=True, ignoreTrailingWhiteSpace=True, nullValue='NA'))\n",
    "display(gameInfDf)"
   ]
  },
  {
   "cell_type": "markdown",
   "metadata": {
    "editable": true
   },
   "source": [
    "The second smaller dataset includes high-level information and advanced stats with one record per game.  Key attributes are “League”, “Season”, “Country”, “Home Team”, “Away Team” and various market odds.\n",
    "\n",
    "These two CSV datasets are transformed and joined into a single data layer for high-performance big data queries"
   ]
  },
  {
   "cell_type": "markdown",
   "metadata": {
    "editable": true
   },
   "source": [
    "To transform and join the DataFrames into one, many fields of interest in the game events DataFrame have numeric IDs, so a generic UDF is defined that could use look-up tables for mapping IDs to descriptions."
   ]
  },
  {
   "cell_type": "code",
   "execution_count": 46,
   "metadata": {
    "editable": true
   },
   "outputs": [],
   "source": [
    "def mapKeyToVal(mapping):\n",
    "    def mapKeyToVal_(col):\n",
    "        return mapping.get(col)\n",
    "    return udf(mapKeyToVal_, StringType())"
   ]
  },
  {
   "cell_type": "code",
   "execution_count": 68,
   "metadata": {
    "editable": true
   },
   "outputs": [],
   "source": [
    "from collections import defaultdict"
   ]
  },
  {
   "cell_type": "code",
   "execution_count": 81,
   "metadata": {
    "editable": true
   },
   "outputs": [],
   "source": [
    "evtType = pd.read_excel('event_type.xlsx', header=0, index_col=0)\n",
    "evtTypeMap = defaultdict(str)\n",
    "for index, row in evtType.iterrows():\n",
    "    evtTypeMap[int(index)] = row[0]"
   ]
  },
  {
   "cell_type": "code",
   "execution_count": 82,
   "metadata": {
    "editable": true
   },
   "outputs": [
    {
     "data": {
      "text/plain": [
       "defaultdict(str,\n",
       "            {0: 'Announcement',\n",
       "             1: 'Attempt',\n",
       "             2: 'Corner',\n",
       "             3: 'Foul',\n",
       "             4: 'Yellow card',\n",
       "             5: 'Second yellow card',\n",
       "             6: 'Red card',\n",
       "             7: 'Substitution',\n",
       "             8: 'Free kick won',\n",
       "             9: 'Offside',\n",
       "             10: 'Hand ball',\n",
       "             11: 'Penalty conceded'})"
      ]
     },
     "metadata": {},
     "output_type": "display_data"
    }
   ],
   "source": [
    "display(evtTypeMap)"
   ]
  },
  {
   "cell_type": "code",
   "execution_count": 83,
   "metadata": {
    "editable": true
   },
   "outputs": [],
   "source": [
    "evtTyp2 = pd.read_excel('event_type2.xlsx', header=0, index_col=0)\n",
    "evtTyp2Map = defaultdict(str)\n",
    "for index, row in evtTyp2.iterrows():\n",
    "    evtTyp2Map[int(index)] = row[0]"
   ]
  },
  {
   "cell_type": "code",
   "execution_count": 84,
   "metadata": {
    "editable": true
   },
   "outputs": [
    {
     "data": {
      "text/plain": [
       "defaultdict(str,\n",
       "            {12: 'Key Pass',\n",
       "             13: 'Failed through ball',\n",
       "             14: 'Sending off',\n",
       "             15: 'Own goal'})"
      ]
     },
     "metadata": {},
     "output_type": "display_data"
    }
   ],
   "source": [
    "display(evtTyp2Map)"
   ]
  },
  {
   "cell_type": "code",
   "execution_count": 89,
   "metadata": {
    "editable": true
   },
   "outputs": [],
   "source": [
    "side = pd.read_csv('side.csv', header=0)\n",
    "sideMap = defaultdict(str)\n",
    "for _, row in side.iterrows():\n",
    "    sideMap[int(row[0])] = row[1]"
   ]
  },
  {
   "cell_type": "code",
   "execution_count": 90,
   "metadata": {
    "editable": true
   },
   "outputs": [
    {
     "data": {
      "text/plain": [
       "defaultdict(str, {1: 'Home', 2: 'Away'})"
      ]
     },
     "metadata": {},
     "output_type": "display_data"
    }
   ],
   "source": [
    "display(sideMap)"
   ]
  },
  {
   "cell_type": "code",
   "execution_count": 91,
   "metadata": {
    "editable": true
   },
   "outputs": [],
   "source": [
    "shotPlace = pd.read_csv('shot_place.csv', header=0)\n",
    "shotPlaceMap = defaultdict(str)\n",
    "for _, row in shotPlace.iterrows():\n",
    "    shotPlaceMap[int(row[0])] = row[1]"
   ]
  },
  {
   "cell_type": "code",
   "execution_count": 92,
   "metadata": {
    "editable": true
   },
   "outputs": [
    {
     "data": {
      "text/plain": [
       "defaultdict(str,\n",
       "            {1: 'Bit too high',\n",
       "             2: 'Blocked',\n",
       "             3: 'Bottom left corner',\n",
       "             4: 'Bottom right corner',\n",
       "             5: 'Centre of the goal',\n",
       "             6: 'High and wide',\n",
       "             7: 'Hits the bar',\n",
       "             8: 'Misses to the left',\n",
       "             9: 'Misses to the right',\n",
       "             10: 'Too high',\n",
       "             11: 'Top centre of the goal',\n",
       "             12: 'Top left corner',\n",
       "             13: 'Top right corner'})"
      ]
     },
     "metadata": {},
     "output_type": "display_data"
    }
   ],
   "source": [
    "display(shotPlaceMap)"
   ]
  },
  {
   "cell_type": "code",
   "execution_count": 93,
   "metadata": {
    "editable": true
   },
   "outputs": [],
   "source": [
    "shotOutcome = pd.read_csv('shot_outcome.csv', header=0)\n",
    "shotOutcomeMap = defaultdict(str)\n",
    "for _, row in shotOutcome.iterrows():\n",
    "    shotOutcomeMap[int(row[0])] = row[1]"
   ]
  },
  {
   "cell_type": "code",
   "execution_count": 94,
   "metadata": {
    "editable": true
   },
   "outputs": [
    {
     "data": {
      "text/plain": [
       "defaultdict(str,\n",
       "            {1: 'On target', 2: 'Off target', 3: 'Blocked', 4: 'Hit the bar'})"
      ]
     },
     "metadata": {},
     "output_type": "display_data"
    }
   ],
   "source": [
    "display(shotOutcomeMap)"
   ]
  },
  {
   "cell_type": "code",
   "execution_count": 95,
   "metadata": {
    "editable": true
   },
   "outputs": [],
   "source": [
    "location = pd.read_csv('location.csv', header=0)\n",
    "locationMap = defaultdict(str)\n",
    "for _, row in location.iterrows():\n",
    "    locationMap[int(row[0])] = row[1]"
   ]
  },
  {
   "cell_type": "code",
   "execution_count": 96,
   "metadata": {
    "editable": true
   },
   "outputs": [
    {
     "data": {
      "text/plain": [
       "defaultdict(str,\n",
       "            {1: 'Attacking half',\n",
       "             2: 'Defensive half',\n",
       "             3: 'Centre of the box',\n",
       "             4: 'Left wing',\n",
       "             5: 'Right wing',\n",
       "             6: 'Difficult angle and long range',\n",
       "             7: 'Difficult angle on the left',\n",
       "             8: 'Difficult angle on the right',\n",
       "             9: 'Left side of the box',\n",
       "             10: 'Left side of the six yard box',\n",
       "             11: 'Right side of the box',\n",
       "             12: 'Right side of the six yard box',\n",
       "             13: 'Very close range',\n",
       "             14: 'Penalty spot',\n",
       "             15: 'Outside the box',\n",
       "             16: 'Long range',\n",
       "             17: 'More than 35 yards',\n",
       "             18: 'More than 40 yards',\n",
       "             19: 'Not recorded'})"
      ]
     },
     "metadata": {},
     "output_type": "display_data"
    }
   ],
   "source": [
    "display(locationMap)"
   ]
  },
  {
   "cell_type": "code",
   "execution_count": 97,
   "metadata": {
    "editable": true
   },
   "outputs": [],
   "source": [
    "bodyPart = pd.read_csv('bodypart.csv', header=0)\n",
    "bodyPartMap = defaultdict(str)\n",
    "for _, row in bodyPart.iterrows():\n",
    "    bodyPartMap[int(row[0])] = row[1]"
   ]
  },
  {
   "cell_type": "code",
   "execution_count": 98,
   "metadata": {
    "editable": true
   },
   "outputs": [
    {
     "data": {
      "text/plain": [
       "defaultdict(str, {1: 'right foot', 2: 'left foot', 3: 'head'})"
      ]
     },
     "metadata": {},
     "output_type": "display_data"
    }
   ],
   "source": [
    "display(bodyPartMap)"
   ]
  },
  {
   "cell_type": "code",
   "execution_count": 100,
   "metadata": {
    "editable": true
   },
   "outputs": [],
   "source": [
    "assistMethod = pd.read_csv('assist_method.csv', header=0)\n",
    "assistMethodMap = defaultdict(str)\n",
    "for _, row in assistMethod.iterrows():\n",
    "    assistMethodMap[int(row[0])] = row[1]"
   ]
  },
  {
   "cell_type": "code",
   "execution_count": 101,
   "metadata": {
    "editable": true
   },
   "outputs": [
    {
     "data": {
      "text/plain": [
       "defaultdict(str,\n",
       "            {0: 'None',\n",
       "             1: 'Pass',\n",
       "             2: 'Cross',\n",
       "             3: 'Headed pass',\n",
       "             4: 'Through ball'})"
      ]
     },
     "metadata": {},
     "output_type": "display_data"
    }
   ],
   "source": [
    "display(assistMethodMap)"
   ]
  },
  {
   "cell_type": "code",
   "execution_count": 102,
   "metadata": {
    "editable": true
   },
   "outputs": [],
   "source": [
    "situation = pd.read_csv('situation.csv', header=0)\n",
    "situationMap = defaultdict(str)\n",
    "for _, row in situation.iterrows():\n",
    "    situationMap[int(row[0])] = row[1]"
   ]
  },
  {
   "cell_type": "code",
   "execution_count": 103,
   "metadata": {
    "editable": true
   },
   "outputs": [
    {
     "data": {
      "text/plain": [
       "defaultdict(str, {1: 'Open play', 2: 'Set piece', 3: 'Corner', 4: 'Free kick'})"
      ]
     },
     "metadata": {},
     "output_type": "display_data"
    }
   ],
   "source": [
    "display(situationMap)"
   ]
  },
  {
   "cell_type": "code",
   "execution_count": 66,
   "metadata": {
    "editable": true
   },
   "outputs": [
    {
     "data": {
      "text/plain": [
       "DataFrame[id_odsp: string, country: string, country_code: string]"
      ]
     },
     "metadata": {},
     "output_type": "display_data"
    }
   ],
   "source": [
    "def truncate():\n",
    "    def truncate_(col):\n",
    "        return col[:3]\n",
    "    return udf(truncate_, StringType())\n",
    "gameInfDf = gameInfDf.withColumn('country_code', truncate()('country'))\n",
    "display(gameInfDf['id_odsp','country','country_code'])"
   ]
  },
  {
   "cell_type": "code",
   "execution_count": 67,
   "metadata": {
    "editable": true
   },
   "outputs": [
    {
     "data": {
      "text/plain": [
       "[Row(id_odsp='UFot0hit/', link_odsp='/soccer/germany/bundesliga-2011-2012/dortmund-hamburger-UFot0hit/', adv_stats=True, date=datetime.datetime(2011, 8, 5, 0, 0), league='D1', season=2012, country='germany', ht='Borussia Dortmund', at='Hamburg SV', fthg=3, ftag=1, odd_h=1.56, odd_d=4.41, odd_a=7.42, odd_over=None, odd_under=None, odd_bts=None, odd_bts_n=None, country_code='ger'),\n",
       " Row(id_odsp='Aw5DflLH/', link_odsp='/soccer/germany/bundesliga-2011-2012/augsburg-freiburg-Aw5DflLH/', adv_stats=True, date=datetime.datetime(2011, 8, 6, 0, 0), league='D1', season=2012, country='germany', ht='FC Augsburg', at='SC Freiburg', fthg=2, ftag=2, odd_h=2.36, odd_d=3.6, odd_a=3.4, odd_over=None, odd_under=None, odd_bts=None, odd_bts_n=None, country_code='ger'),\n",
       " Row(id_odsp='bkjpaC6n/', link_odsp='/soccer/germany/bundesliga-2011-2012/werder-bremen-kaiserslautern-bkjpaC6n/', adv_stats=True, date=datetime.datetime(2011, 8, 6, 0, 0), league='D1', season=2012, country='germany', ht='Werder Bremen', at='Kaiserslautern', fthg=2, ftag=0, odd_h=1.83, odd_d=4.2, odd_a=4.8, odd_over=None, odd_under=None, odd_bts=None, odd_bts_n=None, country_code='ger'),\n",
       " Row(id_odsp='CzPV312a/', link_odsp='/soccer/france/ligue-1-2011-2012/paris-sg-lorient-CzPV312a/', adv_stats=True, date=datetime.datetime(2011, 8, 6, 0, 0), league='F1', season=2012, country='france', ht='Paris Saint-Germain', at='Lorient', fthg=0, ftag=1, odd_h=1.55, odd_d=4.5, odd_a=9.4, odd_over=None, odd_under=None, odd_bts=None, odd_bts_n=None, country_code='fra'),\n",
       " Row(id_odsp='GUOdmtII/', link_odsp='/soccer/france/ligue-1-2011-2012/caen-valenciennes-GUOdmtII/', adv_stats=True, date=datetime.datetime(2011, 8, 6, 0, 0), league='F1', season=2012, country='france', ht='Caen', at='Valenciennes', fthg=1, ftag=0, odd_h=2.5, odd_d=3.4, odd_a=3.45, odd_over=None, odd_under=None, odd_bts=None, odd_bts_n=None, country_code='fra')]"
      ]
     },
     "execution_count": 67,
     "metadata": {},
     "output_type": "execute_result"
    }
   ],
   "source": [
    "gameInfDf.head(5)"
   ]
  },
  {
   "cell_type": "markdown",
   "metadata": {
    "editable": true
   },
   "source": [
    "### Step 3: Define the Data Model\n",
    "#### 3.1 Conceptual Data Model\n",
    "Map out the conceptual data model and explain why you chose that model\n",
    "\n",
    "A start schema is created including eventsDf as the fact table and gameInfDf, evnType, envTyp2, side, shotPlace, shotOutcome, location, bodyPart, assistMethod, situation as dimension tables.\n",
    "#### 3.2 Mapping Out Data Pipelines\n",
    "List the steps necessary to pipeline the data into the chosen data model\n",
    "\n",
    "Extraction: create a DataFrame schema for the larger game events dataset, so the read operation doesn't spend time inferring it from the data.  Once extracted, replace null values for interesting fields with data-type specific constants.  Also read the second dataset into a DataFrame and other nine descriptive datasets.\n",
    "\n",
    "Transformation: the mapped descriptions are stored in new columns in the DataFrame.  So once the two DataFrames are joined, filter out the original numeric columns to keep it as sparse as possible.\n",
    "\n",
    "Loading: once the data is in the desired shape, load it as Parquet into a Spark table."
   ]
  },
  {
   "cell_type": "markdown",
   "metadata": {
    "editable": true
   },
   "source": [
    "### Step 4: Run Pipelines to Model the Data \n",
    "#### 4.1 Create the data model\n",
    "Build the data pipelines to create the data model."
   ]
  },
  {
   "cell_type": "code",
   "execution_count": 106,
   "metadata": {
    "editable": true
   },
   "outputs": [],
   "source": [
    "eventsDf = ( eventsDf.\n",
    "withColumn('event_type_str', mapKeyToVal(evtTypeMap)('event_type')). withColumn('event_type2_str', mapKeyToVal(evtTyp2Map)('event_type2')). withColumn('side_str', mapKeyToVal(sideMap)('side')). withColumn('shot_place_str', mapKeyToVal(shotPlaceMap)('shot_place')). withColumn('shot_outcome_str', mapKeyToVal(shotOutcomeMap)('shot_outcome')). withColumn('location_str', mapKeyToVal(locationMap)('location')). withColumn('bodypart_str', mapKeyToVal(bodyPartMap)('bodypart')). withColumn('assist_method_str', mapKeyToVal(assistMethodMap)('assist_method')). withColumn('situation_str', mapKeyToVal(situationMap)('situation')))\n",
    "joinedDf = (\n",
    "eventsDf.join(gameInfDf, eventsDf.id_odsp == gameInfDf.id_odsp, 'inner').\n",
    "select(eventsDf.id_odsp, eventsDf.id_event, eventsDf.sort_order, eventsDf.time, eventsDf.event_type,\n",
    "eventsDf.event_type_str, eventsDf.event_type2, eventsDf.event_type2_str, eventsDf.side, eventsDf.side_str, eventsDf.event_team, eventsDf.opponent, eventsDf.player, eventsDf.player2, eventsDf.player_in, eventsDf.player_out, eventsDf.shot_place, eventsDf.shot_place_str, eventsDf.shot_outcome, eventsDf. shot_outcome_str, eventsDf.is_goal, eventsDf.location, eventsDf.location_str, eventsDf.bodypart, eventsDf.bodypart_str, eventsDf.assist_method, eventsDf.assist_method_str, eventsDf.situation, eventsDf.situation_str, gameInfDf.country_code)\n",
    ")"
   ]
  },
  {
   "cell_type": "code",
   "execution_count": 107,
   "metadata": {
    "editable": true
   },
   "outputs": [
    {
     "data": {
      "text/plain": [
       "DataFrame[id_odsp: string, id_event: string, sort_order: int, time: int, text: string, event_type: int, event_type2: int, side: int, event_team: string, opponent: string, player: string, player2: string, player_in: string, player_out: string, shot_place: int, shot_outcome: int, is_goal: int, location: int, bodypart: int, assist_method: int, situation: int, fast_break: int, event_type_str: string, event_type2_str: string, side_str: string, shot_place_str: string, shot_outcome_str: string, location_str: string, bodypart_str: string, assist_method_str: string, situation_str: string]"
      ]
     },
     "metadata": {},
     "output_type": "display_data"
    }
   ],
   "source": [
    "display(eventsDf)"
   ]
  },
  {
   "cell_type": "code",
   "execution_count": 108,
   "metadata": {
    "editable": true
   },
   "outputs": [
    {
     "data": {
      "text/plain": [
       "DataFrame[id_odsp: string, id_event: string, sort_order: int, time: int, event_type: int, event_type_str: string, event_type2: int, event_type2_str: string, side: int, side_str: string, event_team: string, opponent: string, player: string, player2: string, player_in: string, player_out: string, shot_place: int, shot_place_str: string, shot_outcome: int, shot_outcome_str: string, is_goal: int, location: int, location_str: string, bodypart: int, bodypart_str: string, assist_method: int, assist_method_str: string, situation: int, situation_str: string, country_code: string]"
      ]
     },
     "metadata": {},
     "output_type": "display_data"
    }
   ],
   "source": [
    "display(joinedDf)"
   ]
  },
  {
   "cell_type": "markdown",
   "metadata": {
    "editable": true
   },
   "source": [
    "#### 4.2 Data Quality Checks\n",
    "Run Quality Checks"
   ]
  },
  {
   "cell_type": "code",
   "execution_count": 110,
   "metadata": {
    "editable": true
   },
   "outputs": [
    {
     "name": "stdout",
     "output_type": "stream",
     "text": [
      "root\n",
      " |-- id_odsp: string (nullable = true)\n",
      " |-- id_event: string (nullable = true)\n",
      " |-- sort_order: integer (nullable = true)\n",
      " |-- time: integer (nullable = true)\n",
      " |-- event_type: integer (nullable = false)\n",
      " |-- event_type_str: string (nullable = true)\n",
      " |-- event_type2: integer (nullable = false)\n",
      " |-- event_type2_str: string (nullable = true)\n",
      " |-- side: integer (nullable = true)\n",
      " |-- side_str: string (nullable = true)\n",
      " |-- event_team: string (nullable = false)\n",
      " |-- opponent: string (nullable = false)\n",
      " |-- player: string (nullable = false)\n",
      " |-- player2: string (nullable = true)\n",
      " |-- player_in: string (nullable = true)\n",
      " |-- player_out: string (nullable = true)\n",
      " |-- shot_place: integer (nullable = false)\n",
      " |-- shot_place_str: string (nullable = true)\n",
      " |-- shot_outcome: integer (nullable = false)\n",
      " |-- shot_outcome_str: string (nullable = true)\n",
      " |-- is_goal: integer (nullable = true)\n",
      " |-- location: integer (nullable = false)\n",
      " |-- location_str: string (nullable = true)\n",
      " |-- bodypart: integer (nullable = false)\n",
      " |-- bodypart_str: string (nullable = true)\n",
      " |-- assist_method: integer (nullable = false)\n",
      " |-- assist_method_str: string (nullable = true)\n",
      " |-- situation: integer (nullable = false)\n",
      " |-- situation_str: string (nullable = true)\n",
      " |-- country_code: string (nullable = true)\n",
      "\n",
      "+---------+---------+----------+----+----------+--------------+-----------+---------------+----+--------+-----------------+-----------------+----------------+----------------+---------+----------+----------+--------------+------------+----------------+-------+--------+--------------------+--------+------------+-------------+-----------------+---------+-------------+------------+\n",
      "|  id_odsp| id_event|sort_order|time|event_type|event_type_str|event_type2|event_type2_str|side|side_str|       event_team|         opponent|          player|         player2|player_in|player_out|shot_place|shot_place_str|shot_outcome|shot_outcome_str|is_goal|location|        location_str|bodypart|bodypart_str|assist_method|assist_method_str|situation|situation_str|country_code|\n",
      "+---------+---------+----------+----+----------+--------------+-----------+---------------+----+--------+-----------------+-----------------+----------------+----------------+---------+----------+----------+--------------+------------+----------------+-------+--------+--------------------+--------+------------+-------------+-----------------+---------+-------------+------------+\n",
      "|UFot0hit/|UFot0hit1|         1|   2|         1|       Attempt|         12|       Key Pass|   2|    Away|       Hamburg SV|Borussia Dortmund|   mladen petric|     gokhan tore|     null|      null|         6| High and wide|           2|      Off target|      0|       9|Left side of the box|       2|   left foot|            1|             Pass|        1|    Open play|         ger|\n",
      "|UFot0hit/|UFot0hit2|         2|   4|         2|        Corner|         99|           null|   1|    Home|Borussia Dortmund|       Hamburg SV|dennis diekmeier|dennis diekmeier|     null|      null|        99|          null|          99|            null|      0|      99|                null|      99|        null|            0|             None|       99|         null|         ger|\n",
      "|UFot0hit/|UFot0hit3|         3|   4|         2|        Corner|         99|           null|   1|    Home|Borussia Dortmund|       Hamburg SV|heiko westermann|heiko westermann|     null|      null|        99|          null|          99|            null|      0|      99|                null|      99|        null|            0|             None|       99|         null|         ger|\n",
      "|UFot0hit/|UFot0hit4|         4|   7|         3|          Foul|         99|           null|   1|    Home|Borussia Dortmund|       Hamburg SV|     sven bender|            null|     null|      null|        99|          null|          99|            null|      0|      99|                null|      99|        null|            0|             None|       99|         null|         ger|\n",
      "|UFot0hit/|UFot0hit5|         5|   7|         8| Free kick won|         99|           null|   2|    Away|       Hamburg SV|Borussia Dortmund|     gokhan tore|            null|     null|      null|        99|          null|          99|            null|      0|       2|      Defensive half|      99|        null|            0|             None|       99|         null|         ger|\n",
      "+---------+---------+----------+----+----------+--------------+-----------+---------------+----+--------+-----------------+-----------------+----------------+----------------+---------+----------+----------+--------------+------------+----------------+-------+--------+--------------------+--------+------------+-------------+-----------------+---------+-------------+------------+\n",
      "only showing top 5 rows\n",
      "\n"
     ]
    }
   ],
   "source": [
    "joinedDf.createOrReplaceTempView(\"game_events\")\n",
    "games = spark.sql(\"\"\"\n",
    "    SELECT  *\n",
    "    FROM game_events\n",
    "\"\"\")\n",
    "games.printSchema()\n",
    "games.show(5) "
   ]
  },
  {
   "cell_type": "code",
   "execution_count": 122,
   "metadata": {
    "editable": true
   },
   "outputs": [
    {
     "data": {
      "text/plain": [
       "[Row(col_name='id_odsp', data_type='string', comment=None),\n",
       " Row(col_name='id_event', data_type='string', comment=None),\n",
       " Row(col_name='sort_order', data_type='int', comment=None),\n",
       " Row(col_name='time', data_type='int', comment=None),\n",
       " Row(col_name='event_type', data_type='int', comment=None),\n",
       " Row(col_name='event_type_str', data_type='string', comment=None),\n",
       " Row(col_name='event_type2', data_type='int', comment=None),\n",
       " Row(col_name='event_type2_str', data_type='string', comment=None),\n",
       " Row(col_name='side', data_type='int', comment=None),\n",
       " Row(col_name='side_str', data_type='string', comment=None),\n",
       " Row(col_name='event_team', data_type='string', comment=None),\n",
       " Row(col_name='opponent', data_type='string', comment=None),\n",
       " Row(col_name='player', data_type='string', comment=None),\n",
       " Row(col_name='player2', data_type='string', comment=None),\n",
       " Row(col_name='player_in', data_type='string', comment=None),\n",
       " Row(col_name='player_out', data_type='string', comment=None),\n",
       " Row(col_name='shot_place', data_type='int', comment=None),\n",
       " Row(col_name='shot_place_str', data_type='string', comment=None),\n",
       " Row(col_name='shot_outcome', data_type='int', comment=None),\n",
       " Row(col_name='shot_outcome_str', data_type='string', comment=None),\n",
       " Row(col_name='is_goal', data_type='int', comment=None),\n",
       " Row(col_name='location', data_type='int', comment=None),\n",
       " Row(col_name='location_str', data_type='string', comment=None),\n",
       " Row(col_name='bodypart', data_type='int', comment=None),\n",
       " Row(col_name='bodypart_str', data_type='string', comment=None),\n",
       " Row(col_name='assist_method', data_type='int', comment=None),\n",
       " Row(col_name='assist_method_str', data_type='string', comment=None),\n",
       " Row(col_name='situation', data_type='int', comment=None),\n",
       " Row(col_name='situation_str', data_type='string', comment=None),\n",
       " Row(col_name='country_code', data_type='string', comment=None)]"
      ]
     },
     "execution_count": 122,
     "metadata": {},
     "output_type": "execute_result"
    }
   ],
   "source": [
    "spark.sql(\"\"\"DESCRIBE game_events\"\"\").head(30)"
   ]
  },
  {
   "cell_type": "markdown",
   "metadata": {
    "editable": true
   },
   "source": [
    "Now that the data shape and format is all set, it's time to dig in and try and find answers to a few business questions.  For example, if one wants to see the distribution of goals by shot placement, then it could look like this simple query and resulting data-grid."
   ]
  },
  {
   "cell_type": "code",
   "execution_count": 135,
   "metadata": {
    "editable": true
   },
   "outputs": [],
   "source": [
    "goals = spark.sql(\"\"\"SELECT CASE WHEN shot_place_str is Null THEN 'Unknown' ELSE shot_place_str END shot_place, COUNT(1) AS TOT_GOALS FROM GAME_EVENTS WHERE is_goal = 1 GROUP BY shot_place_str\"\"\")"
   ]
  },
  {
   "cell_type": "code",
   "execution_count": 136,
   "metadata": {
    "editable": true
   },
   "outputs": [
    {
     "name": "stdout",
     "output_type": "stream",
     "text": [
      "root\n",
      " |-- shot_place: string (nullable = true)\n",
      " |-- TOT_GOALS: long (nullable = false)\n",
      "\n"
     ]
    }
   ],
   "source": [
    "goals.printSchema()"
   ]
  },
  {
   "cell_type": "code",
   "execution_count": 137,
   "metadata": {
    "editable": true
   },
   "outputs": [
    {
     "data": {
      "text/plain": [
       "6"
      ]
     },
     "execution_count": 137,
     "metadata": {},
     "output_type": "execute_result"
    }
   ],
   "source": [
    "goals.count()"
   ]
  },
  {
   "cell_type": "code",
   "execution_count": 138,
   "metadata": {
    "editable": true
   },
   "outputs": [
    {
     "data": {
      "text/plain": [
       "[Row(shot_place='Bottom right corner', TOT_GOALS=6932),\n",
       " Row(shot_place='Centre of the goal', TOT_GOALS=4446),\n",
       " Row(shot_place='Unknown', TOT_GOALS=1676),\n",
       " Row(shot_place='Top right corner', TOT_GOALS=2157),\n",
       " Row(shot_place='Top left corner', TOT_GOALS=2023),\n",
       " Row(shot_place='Bottom left corner', TOT_GOALS=7212)]"
      ]
     },
     "execution_count": 138,
     "metadata": {},
     "output_type": "execute_result"
    }
   ],
   "source": [
    "goals.head(6)"
   ]
  },
  {
   "cell_type": "markdown",
   "metadata": {
    "editable": true
   },
   "source": [
    "Or, if the requirement is to see the distribution of goals by countries/leagues, it could look like this query"
   ]
  },
  {
   "cell_type": "code",
   "execution_count": 139,
   "metadata": {
    "editable": true
   },
   "outputs": [],
   "source": [
    "country = spark.sql(\"\"\"SELECT country_code, COUNT(1) AS TOT_GOALS\n",
    "FROM GAME_EVENTS WHERE is_goal = 1 GROUP BY country_code\"\"\")"
   ]
  },
  {
   "cell_type": "code",
   "execution_count": 140,
   "metadata": {
    "editable": true
   },
   "outputs": [
    {
     "name": "stdout",
     "output_type": "stream",
     "text": [
      "root\n",
      " |-- country_code: string (nullable = true)\n",
      " |-- TOT_GOALS: long (nullable = false)\n",
      "\n"
     ]
    }
   ],
   "source": [
    "country.printSchema()"
   ]
  },
  {
   "cell_type": "code",
   "execution_count": 141,
   "metadata": {
    "editable": true
   },
   "outputs": [
    {
     "data": {
      "text/plain": [
       "5"
      ]
     },
     "execution_count": 141,
     "metadata": {},
     "output_type": "execute_result"
    }
   ],
   "source": [
    "country.count()"
   ]
  },
  {
   "cell_type": "code",
   "execution_count": 142,
   "metadata": {
    "editable": true
   },
   "outputs": [
    {
     "data": {
      "text/plain": [
       "[Row(country_code='eng', TOT_GOALS=3552),\n",
       " Row(country_code='fra', TOT_GOALS=5199),\n",
       " Row(country_code='ita', TOT_GOALS=5491),\n",
       " Row(country_code='spa', TOT_GOALS=5583),\n",
       " Row(country_code='ger', TOT_GOALS=4621)]"
      ]
     },
     "execution_count": 142,
     "metadata": {},
     "output_type": "execute_result"
    }
   ],
   "source": [
    "country.head(5)"
   ]
  },
  {
   "cell_type": "code",
   "execution_count": null,
   "metadata": {
    "editable": true
   },
   "outputs": [],
   "source": [
    "Spanish league has had most goals over the terms of this data."
   ]
  },
  {
   "cell_type": "markdown",
   "metadata": {
    "editable": true
   },
   "source": [
    "#### Step 5: Complete Project Write Up\n",
    "* Clearly state the rationale for the choice of tools and technologies for the project.\n",
    "\n",
    "Python is used as the programming language because of its ease-of-use and flexibility.\n",
    "\n",
    "Pandas is also a natural choice to deal with data since it contains all necessary libraries for reading, cleaning, and processing.\n",
    "\n",
    "PySpark is used to transform the data because of its ability to handle big data sets.\n",
    "\n",
    "* Propose how often the data should be updated and why.\n",
    "\n",
    "The data should be updated and ETL script should be run seasonly.\n",
    "\n",
    "* Write a description of how you would approach the problem differently under the following scenarios:\n",
    " * The data was increased by 100x.\n",
    " \n",
    " This project would benefit from being stored and processed on cloud servers, such as Amazon S3 and Redshift.\n",
    "\n",
    " * The data populates a dashboard that must be updated on a daily basis by 7am every day.\n",
    " \n",
    " ETL script should be modified to process only the new coming data instead of all files.\n",
    " \n",
    " * The database needed to be accessed by 100+ people.\n",
    "\n",
    "This project would benefit from being run in the cloud, such as AWS, so that all users would be working with the same database."
   ]
  },
  {
   "cell_type": "code",
   "execution_count": null,
   "metadata": {
    "editable": true
   },
   "outputs": [],
   "source": []
  },
  {
   "cell_type": "code",
   "execution_count": null,
   "metadata": {
    "editable": true
   },
   "outputs": [],
   "source": []
  },
  {
   "cell_type": "code",
   "execution_count": null,
   "metadata": {
    "editable": true
   },
   "outputs": [],
   "source": []
  },
  {
   "cell_type": "code",
   "execution_count": null,
   "metadata": {
    "editable": true
   },
   "outputs": [],
   "source": []
  },
  {
   "cell_type": "code",
   "execution_count": null,
   "metadata": {
    "editable": true
   },
   "outputs": [],
   "source": []
  },
  {
   "cell_type": "code",
   "execution_count": null,
   "metadata": {
    "editable": true
   },
   "outputs": [],
   "source": []
  }
 ],
 "metadata": {
  "kernelspec": {
   "display_name": "Python 3",
   "language": "python",
   "name": "python3"
  },
  "language_info": {
   "codemirror_mode": {
    "name": "ipython",
    "version": 3
   },
   "file_extension": ".py",
   "mimetype": "text/x-python",
   "name": "python",
   "nbconvert_exporter": "python",
   "pygments_lexer": "ipython3",
   "version": "3.6.3"
  }
 },
 "nbformat": 4,
 "nbformat_minor": 4
}
